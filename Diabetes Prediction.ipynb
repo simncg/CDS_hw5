{
 "cells": [
  {
   "cell_type": "markdown",
   "id": "48622efd",
   "metadata": {},
   "source": [
    "# Homework 5\n",
    "\n",
    "<b>Computing for Data Science <b> \n",
    "\n",
    "Master in Data Science for Decision Making\n",
    "    \n",
    "*Barcelona School of Economics*    \n",
    "\n",
    "Group Members: \n",
    "- Diego Eslava\n",
    "- Kalliopé Stassinos \n",
    "- Simón Caicedo"
   ]
  },
  {
   "cell_type": "markdown",
   "id": "64da0a10",
   "metadata": {},
   "source": [
    "### Exercise 6\n",
    "\n",
    "Finally, you are going to perform some data analysis on the data from “sample_diabetes_mellitus_data.csv”. Imagine you are in a project that tries to predict whether some patients have diabetes mellitus. In order to do so, you create a library that will be used for your team in order to perform the analysis and make predictions. Since you want your colleagues to make the code as understandable as possible (and earn the highest grade possible :) ), follow the best practices learnt during the lessons. Try to modularise the steps into functions (you can potentially merge g and h) and to separate the functions into files/folders in a way that makes the most sense to the team. For the purpose of this exercise, you are going to follow the next steps:"
   ]
  },
  {
   "cell_type": "markdown",
   "id": "3fa29fe8",
   "metadata": {},
   "source": [
    "**a)** Load the data."
   ]
  },
  {
   "cell_type": "code",
   "execution_count": 1,
   "id": "bea8309a",
   "metadata": {},
   "outputs": [],
   "source": [
    "from hw5_library.load_data import load_diabetes_data\n",
    "df = load_diabetes_data.read_data_diabetes()"
   ]
  },
  {
   "cell_type": "code",
   "execution_count": 2,
   "id": "a87022a5",
   "metadata": {},
   "outputs": [
    {
     "data": {
      "text/html": [
       "<div>\n",
       "<style scoped>\n",
       "    .dataframe tbody tr th:only-of-type {\n",
       "        vertical-align: middle;\n",
       "    }\n",
       "\n",
       "    .dataframe tbody tr th {\n",
       "        vertical-align: top;\n",
       "    }\n",
       "\n",
       "    .dataframe thead th {\n",
       "        text-align: right;\n",
       "    }\n",
       "</style>\n",
       "<table border=\"1\" class=\"dataframe\">\n",
       "  <thead>\n",
       "    <tr style=\"text-align: right;\">\n",
       "      <th></th>\n",
       "      <th>Unnamed: 0</th>\n",
       "      <th>encounter_id</th>\n",
       "      <th>hospital_id</th>\n",
       "      <th>age</th>\n",
       "      <th>bmi</th>\n",
       "      <th>elective_surgery</th>\n",
       "      <th>ethnicity</th>\n",
       "      <th>gender</th>\n",
       "      <th>height</th>\n",
       "      <th>hospital_admit_source</th>\n",
       "      <th>...</th>\n",
       "      <th>ventilated_apache</th>\n",
       "      <th>wbc_apache</th>\n",
       "      <th>aids</th>\n",
       "      <th>cirrhosis</th>\n",
       "      <th>hepatic_failure</th>\n",
       "      <th>immunosuppression</th>\n",
       "      <th>leukemia</th>\n",
       "      <th>lymphoma</th>\n",
       "      <th>solid_tumor_with_metastasis</th>\n",
       "      <th>diabetes_mellitus</th>\n",
       "    </tr>\n",
       "  </thead>\n",
       "  <tbody>\n",
       "    <tr>\n",
       "      <th>0</th>\n",
       "      <td>0</td>\n",
       "      <td>214826</td>\n",
       "      <td>118</td>\n",
       "      <td>68.0</td>\n",
       "      <td>22.732803</td>\n",
       "      <td>0</td>\n",
       "      <td>Caucasian</td>\n",
       "      <td>M</td>\n",
       "      <td>180.30</td>\n",
       "      <td>Floor</td>\n",
       "      <td>...</td>\n",
       "      <td>0</td>\n",
       "      <td>14.1</td>\n",
       "      <td>0</td>\n",
       "      <td>0</td>\n",
       "      <td>0</td>\n",
       "      <td>0</td>\n",
       "      <td>0</td>\n",
       "      <td>0</td>\n",
       "      <td>0</td>\n",
       "      <td>1</td>\n",
       "    </tr>\n",
       "    <tr>\n",
       "      <th>1</th>\n",
       "      <td>1</td>\n",
       "      <td>246060</td>\n",
       "      <td>81</td>\n",
       "      <td>77.0</td>\n",
       "      <td>27.421875</td>\n",
       "      <td>0</td>\n",
       "      <td>Caucasian</td>\n",
       "      <td>F</td>\n",
       "      <td>160.00</td>\n",
       "      <td>Floor</td>\n",
       "      <td>...</td>\n",
       "      <td>1</td>\n",
       "      <td>12.7</td>\n",
       "      <td>0</td>\n",
       "      <td>0</td>\n",
       "      <td>0</td>\n",
       "      <td>0</td>\n",
       "      <td>0</td>\n",
       "      <td>0</td>\n",
       "      <td>0</td>\n",
       "      <td>1</td>\n",
       "    </tr>\n",
       "    <tr>\n",
       "      <th>2</th>\n",
       "      <td>2</td>\n",
       "      <td>276985</td>\n",
       "      <td>118</td>\n",
       "      <td>25.0</td>\n",
       "      <td>31.952749</td>\n",
       "      <td>0</td>\n",
       "      <td>Caucasian</td>\n",
       "      <td>F</td>\n",
       "      <td>172.70</td>\n",
       "      <td>Emergency Department</td>\n",
       "      <td>...</td>\n",
       "      <td>0</td>\n",
       "      <td>NaN</td>\n",
       "      <td>0</td>\n",
       "      <td>0</td>\n",
       "      <td>0</td>\n",
       "      <td>0</td>\n",
       "      <td>0</td>\n",
       "      <td>0</td>\n",
       "      <td>0</td>\n",
       "      <td>0</td>\n",
       "    </tr>\n",
       "    <tr>\n",
       "      <th>3</th>\n",
       "      <td>3</td>\n",
       "      <td>262220</td>\n",
       "      <td>118</td>\n",
       "      <td>81.0</td>\n",
       "      <td>22.635548</td>\n",
       "      <td>1</td>\n",
       "      <td>Caucasian</td>\n",
       "      <td>F</td>\n",
       "      <td>165.10</td>\n",
       "      <td>Operating Room</td>\n",
       "      <td>...</td>\n",
       "      <td>1</td>\n",
       "      <td>8.0</td>\n",
       "      <td>0</td>\n",
       "      <td>0</td>\n",
       "      <td>0</td>\n",
       "      <td>0</td>\n",
       "      <td>0</td>\n",
       "      <td>0</td>\n",
       "      <td>0</td>\n",
       "      <td>0</td>\n",
       "    </tr>\n",
       "    <tr>\n",
       "      <th>4</th>\n",
       "      <td>4</td>\n",
       "      <td>201746</td>\n",
       "      <td>33</td>\n",
       "      <td>19.0</td>\n",
       "      <td>NaN</td>\n",
       "      <td>0</td>\n",
       "      <td>Caucasian</td>\n",
       "      <td>M</td>\n",
       "      <td>188.00</td>\n",
       "      <td>NaN</td>\n",
       "      <td>...</td>\n",
       "      <td>0</td>\n",
       "      <td>NaN</td>\n",
       "      <td>0</td>\n",
       "      <td>0</td>\n",
       "      <td>0</td>\n",
       "      <td>0</td>\n",
       "      <td>0</td>\n",
       "      <td>0</td>\n",
       "      <td>0</td>\n",
       "      <td>0</td>\n",
       "    </tr>\n",
       "    <tr>\n",
       "      <th>...</th>\n",
       "      <td>...</td>\n",
       "      <td>...</td>\n",
       "      <td>...</td>\n",
       "      <td>...</td>\n",
       "      <td>...</td>\n",
       "      <td>...</td>\n",
       "      <td>...</td>\n",
       "      <td>...</td>\n",
       "      <td>...</td>\n",
       "      <td>...</td>\n",
       "      <td>...</td>\n",
       "      <td>...</td>\n",
       "      <td>...</td>\n",
       "      <td>...</td>\n",
       "      <td>...</td>\n",
       "      <td>...</td>\n",
       "      <td>...</td>\n",
       "      <td>...</td>\n",
       "      <td>...</td>\n",
       "      <td>...</td>\n",
       "      <td>...</td>\n",
       "    </tr>\n",
       "    <tr>\n",
       "      <th>9995</th>\n",
       "      <td>9995</td>\n",
       "      <td>167042</td>\n",
       "      <td>140</td>\n",
       "      <td>NaN</td>\n",
       "      <td>51.952814</td>\n",
       "      <td>0</td>\n",
       "      <td>Caucasian</td>\n",
       "      <td>F</td>\n",
       "      <td>137.20</td>\n",
       "      <td>Floor</td>\n",
       "      <td>...</td>\n",
       "      <td>0</td>\n",
       "      <td>7.0</td>\n",
       "      <td>0</td>\n",
       "      <td>0</td>\n",
       "      <td>0</td>\n",
       "      <td>0</td>\n",
       "      <td>0</td>\n",
       "      <td>0</td>\n",
       "      <td>0</td>\n",
       "      <td>0</td>\n",
       "    </tr>\n",
       "    <tr>\n",
       "      <th>9996</th>\n",
       "      <td>9996</td>\n",
       "      <td>165009</td>\n",
       "      <td>89</td>\n",
       "      <td>34.0</td>\n",
       "      <td>26.110113</td>\n",
       "      <td>0</td>\n",
       "      <td>Caucasian</td>\n",
       "      <td>F</td>\n",
       "      <td>175.26</td>\n",
       "      <td>Emergency Department</td>\n",
       "      <td>...</td>\n",
       "      <td>0</td>\n",
       "      <td>9.5</td>\n",
       "      <td>0</td>\n",
       "      <td>0</td>\n",
       "      <td>0</td>\n",
       "      <td>0</td>\n",
       "      <td>0</td>\n",
       "      <td>0</td>\n",
       "      <td>0</td>\n",
       "      <td>0</td>\n",
       "    </tr>\n",
       "    <tr>\n",
       "      <th>9997</th>\n",
       "      <td>9997</td>\n",
       "      <td>234052</td>\n",
       "      <td>137</td>\n",
       "      <td>30.0</td>\n",
       "      <td>23.774241</td>\n",
       "      <td>0</td>\n",
       "      <td>Native American</td>\n",
       "      <td>F</td>\n",
       "      <td>157.48</td>\n",
       "      <td>Emergency Department</td>\n",
       "      <td>...</td>\n",
       "      <td>0</td>\n",
       "      <td>NaN</td>\n",
       "      <td>0</td>\n",
       "      <td>0</td>\n",
       "      <td>0</td>\n",
       "      <td>0</td>\n",
       "      <td>0</td>\n",
       "      <td>0</td>\n",
       "      <td>0</td>\n",
       "      <td>0</td>\n",
       "    </tr>\n",
       "    <tr>\n",
       "      <th>9998</th>\n",
       "      <td>9998</td>\n",
       "      <td>249290</td>\n",
       "      <td>89</td>\n",
       "      <td>67.0</td>\n",
       "      <td>31.330708</td>\n",
       "      <td>0</td>\n",
       "      <td>Caucasian</td>\n",
       "      <td>F</td>\n",
       "      <td>157.48</td>\n",
       "      <td>Direct Admit</td>\n",
       "      <td>...</td>\n",
       "      <td>0</td>\n",
       "      <td>6.4</td>\n",
       "      <td>0</td>\n",
       "      <td>0</td>\n",
       "      <td>0</td>\n",
       "      <td>0</td>\n",
       "      <td>0</td>\n",
       "      <td>0</td>\n",
       "      <td>0</td>\n",
       "      <td>0</td>\n",
       "    </tr>\n",
       "    <tr>\n",
       "      <th>9999</th>\n",
       "      <td>9999</td>\n",
       "      <td>151312</td>\n",
       "      <td>89</td>\n",
       "      <td>55.0</td>\n",
       "      <td>44.343663</td>\n",
       "      <td>0</td>\n",
       "      <td>Caucasian</td>\n",
       "      <td>F</td>\n",
       "      <td>157.50</td>\n",
       "      <td>Emergency Department</td>\n",
       "      <td>...</td>\n",
       "      <td>1</td>\n",
       "      <td>NaN</td>\n",
       "      <td>0</td>\n",
       "      <td>0</td>\n",
       "      <td>0</td>\n",
       "      <td>0</td>\n",
       "      <td>0</td>\n",
       "      <td>0</td>\n",
       "      <td>0</td>\n",
       "      <td>0</td>\n",
       "    </tr>\n",
       "  </tbody>\n",
       "</table>\n",
       "<p>10000 rows × 53 columns</p>\n",
       "</div>"
      ],
      "text/plain": [
       "      Unnamed: 0  encounter_id  hospital_id   age        bmi  \\\n",
       "0              0        214826          118  68.0  22.732803   \n",
       "1              1        246060           81  77.0  27.421875   \n",
       "2              2        276985          118  25.0  31.952749   \n",
       "3              3        262220          118  81.0  22.635548   \n",
       "4              4        201746           33  19.0        NaN   \n",
       "...          ...           ...          ...   ...        ...   \n",
       "9995        9995        167042          140   NaN  51.952814   \n",
       "9996        9996        165009           89  34.0  26.110113   \n",
       "9997        9997        234052          137  30.0  23.774241   \n",
       "9998        9998        249290           89  67.0  31.330708   \n",
       "9999        9999        151312           89  55.0  44.343663   \n",
       "\n",
       "      elective_surgery        ethnicity gender  height hospital_admit_source  \\\n",
       "0                    0        Caucasian      M  180.30                 Floor   \n",
       "1                    0        Caucasian      F  160.00                 Floor   \n",
       "2                    0        Caucasian      F  172.70  Emergency Department   \n",
       "3                    1        Caucasian      F  165.10        Operating Room   \n",
       "4                    0        Caucasian      M  188.00                   NaN   \n",
       "...                ...              ...    ...     ...                   ...   \n",
       "9995                 0        Caucasian      F  137.20                 Floor   \n",
       "9996                 0        Caucasian      F  175.26  Emergency Department   \n",
       "9997                 0  Native American      F  157.48  Emergency Department   \n",
       "9998                 0        Caucasian      F  157.48          Direct Admit   \n",
       "9999                 0        Caucasian      F  157.50  Emergency Department   \n",
       "\n",
       "      ... ventilated_apache  wbc_apache aids cirrhosis  hepatic_failure  \\\n",
       "0     ...                 0        14.1    0         0                0   \n",
       "1     ...                 1        12.7    0         0                0   \n",
       "2     ...                 0         NaN    0         0                0   \n",
       "3     ...                 1         8.0    0         0                0   \n",
       "4     ...                 0         NaN    0         0                0   \n",
       "...   ...               ...         ...  ...       ...              ...   \n",
       "9995  ...                 0         7.0    0         0                0   \n",
       "9996  ...                 0         9.5    0         0                0   \n",
       "9997  ...                 0         NaN    0         0                0   \n",
       "9998  ...                 0         6.4    0         0                0   \n",
       "9999  ...                 1         NaN    0         0                0   \n",
       "\n",
       "      immunosuppression  leukemia  lymphoma  solid_tumor_with_metastasis  \\\n",
       "0                     0         0         0                            0   \n",
       "1                     0         0         0                            0   \n",
       "2                     0         0         0                            0   \n",
       "3                     0         0         0                            0   \n",
       "4                     0         0         0                            0   \n",
       "...                 ...       ...       ...                          ...   \n",
       "9995                  0         0         0                            0   \n",
       "9996                  0         0         0                            0   \n",
       "9997                  0         0         0                            0   \n",
       "9998                  0         0         0                            0   \n",
       "9999                  0         0         0                            0   \n",
       "\n",
       "      diabetes_mellitus  \n",
       "0                     1  \n",
       "1                     1  \n",
       "2                     0  \n",
       "3                     0  \n",
       "4                     0  \n",
       "...                 ...  \n",
       "9995                  0  \n",
       "9996                  0  \n",
       "9997                  0  \n",
       "9998                  0  \n",
       "9999                  0  \n",
       "\n",
       "[10000 rows x 53 columns]"
      ]
     },
     "execution_count": 2,
     "metadata": {},
     "output_type": "execute_result"
    }
   ],
   "source": [
    "df"
   ]
  },
  {
   "cell_type": "markdown",
   "id": "86c36892",
   "metadata": {},
   "source": [
    "**b)** Split the data between train and test. (you can use train_test_split from sklearn or any other way)"
   ]
  },
  {
   "cell_type": "code",
   "execution_count": 3,
   "id": "a09d5997",
   "metadata": {},
   "outputs": [],
   "source": [
    "from hw5_library.clean_data.split import train_test_split\n",
    "X_train, X_test, y_train, y_test = train_test_split.split_df(df)"
   ]
  },
  {
   "cell_type": "markdown",
   "id": "1c071b95",
   "metadata": {},
   "source": [
    "**c)** Remove those rows that contain NaN values in the columns: age, gender, ethnicity."
   ]
  },
  {
   "cell_type": "code",
   "execution_count": 4,
   "id": "947a0ed7",
   "metadata": {},
   "outputs": [],
   "source": [
    "from hw5_library.clean_data.missing_values import remove_nan\n",
    "X_train, y_train = remove_nan.remove_nan_age_gen_eth(X_train, y_train)\n",
    "X_test, y_test  = remove_nan.remove_nan_age_gen_eth(X_test, y_test)"
   ]
  },
  {
   "cell_type": "markdown",
   "id": "96b0be68",
   "metadata": {},
   "source": [
    "**d)** Fill NaN with the mean value of the column in the columns: height, weight."
   ]
  },
  {
   "cell_type": "code",
   "execution_count": 5,
   "id": "101b80a3",
   "metadata": {},
   "outputs": [],
   "source": [
    "from hw5_library.clean_data.missing_values import fill_nan\n",
    "\n",
    "X_train= fill_nan.fill_nan_height_weight(X_train)\n",
    "X_test = fill_nan.fill_nan_height_weight(X_test)"
   ]
  },
  {
   "cell_type": "markdown",
   "id": "a6e989cc",
   "metadata": {},
   "source": [
    "**e)** Generate dummies for ethnicity column (One hot encoding)."
   ]
  },
  {
   "cell_type": "code",
   "execution_count": 6,
   "id": "320d61a3",
   "metadata": {},
   "outputs": [],
   "source": [
    "from hw5_library.clean_data.dummy_creation import dummy_creation\n",
    "\n",
    "X_train = dummy_creation.dummy_creation(X_train, column = [\"ethnicity\"])\n",
    "X_test = dummy_creation.dummy_creation(X_test, column = [\"ethnicity\"])"
   ]
  },
  {
   "cell_type": "markdown",
   "id": "ae1c901a",
   "metadata": {},
   "source": [
    "**f)** Create a binary variable for gender M/F."
   ]
  },
  {
   "cell_type": "code",
   "execution_count": 7,
   "id": "5a922b20",
   "metadata": {},
   "outputs": [],
   "source": [
    "X_train = dummy_creation.dummy_creation(X_train, column = [\"gender\"])\n",
    "X_test = dummy_creation.dummy_creation(X_test, column = [\"gender\"])"
   ]
  },
  {
   "cell_type": "markdown",
   "id": "be0ab8c9",
   "metadata": {},
   "source": [
    "**g)** Train a model (for instance LogisticRegression or RandomForestClassifier from sklearn) in the\n",
    "train data. Use as features the columns: ‘age’, ‘height’, ‘weight’, ‘aids’, ‘cirrhosis’, ‘hepatic_failure’,\n",
    "‘immunosuppression’, ‘leukemia’, ‘lymphoma’, ‘solid_tumor_with_metastasis’. Use as target the\n",
    "column: ‘diabetes_mellitus’\n",
    "\n",
    "\n",
    "**h)** Predict the targets for both the train and test sets and add the prediction as a new column (use predict_proba from the model to get the predicted probabilities) name the new column something like predictions."
   ]
  },
  {
   "cell_type": "code",
   "execution_count": 8,
   "id": "46f7c0c5",
   "metadata": {},
   "outputs": [
    {
     "name": "stderr",
     "output_type": "stream",
     "text": [
      "C:\\Users\\USER\\anaconda3\\envs\\virtualenv_hw5\\lib\\site-packages\\hw5_library\\trainning_predictions\\train_get_predictions.py:12: SettingWithCopyWarning: \n",
      "A value is trying to be set on a copy of a slice from a DataFrame.\n",
      "Try using .loc[row_indexer,col_indexer] = value instead\n",
      "\n",
      "See the caveats in the documentation: https://pandas.pydata.org/pandas-docs/stable/user_guide/indexing.html#returning-a-view-versus-a-copy\n",
      "  X_train[\"predictions\"] = probas_train[:,1]\n",
      "C:\\Users\\USER\\anaconda3\\envs\\virtualenv_hw5\\lib\\site-packages\\hw5_library\\trainning_predictions\\train_get_predictions.py:14: SettingWithCopyWarning: \n",
      "A value is trying to be set on a copy of a slice from a DataFrame.\n",
      "Try using .loc[row_indexer,col_indexer] = value instead\n",
      "\n",
      "See the caveats in the documentation: https://pandas.pydata.org/pandas-docs/stable/user_guide/indexing.html#returning-a-view-versus-a-copy\n",
      "  X_test[\"predictions\"] = probas_test[:,1]\n"
     ]
    }
   ],
   "source": [
    "from hw5_library.trainning_predictions import train_get_predictions\n",
    "\n",
    "X_train, X_test = train_get_predictions.train_predictions_model(X_train, y_train, X_test)"
   ]
  },
  {
   "cell_type": "markdown",
   "id": "e08da3ce",
   "metadata": {},
   "source": [
    "**i)** Compute the train and test roc_auc metric using roc_auc_score from sklearn."
   ]
  },
  {
   "cell_type": "code",
   "execution_count": 9,
   "id": "faf74ca8",
   "metadata": {},
   "outputs": [],
   "source": [
    "from hw5_library.metrics import roc_auc_score\n",
    "\n",
    "score_train, score_test = roc_auc_score.train_test_roc_auc(X_train, y_train, X_test, y_test)"
   ]
  },
  {
   "cell_type": "code",
   "execution_count": 10,
   "id": "6d8ee2d1",
   "metadata": {},
   "outputs": [
    {
     "data": {
      "text/plain": [
       "0.6736719438980764"
      ]
     },
     "execution_count": 10,
     "metadata": {},
     "output_type": "execute_result"
    }
   ],
   "source": [
    "score_train"
   ]
  },
  {
   "cell_type": "code",
   "execution_count": 11,
   "id": "4f00126b",
   "metadata": {},
   "outputs": [
    {
     "data": {
      "text/plain": [
       "0.6553416683823391"
      ]
     },
     "execution_count": 11,
     "metadata": {},
     "output_type": "execute_result"
    }
   ],
   "source": [
    "score_test"
   ]
  },
  {
   "cell_type": "code",
   "execution_count": 12,
   "id": "bece023c",
   "metadata": {},
   "outputs": [
    {
     "data": {
      "image/png": "[encoded data removed]",
      "text/plain": [
       "<Figure size 720x432 with 1 Axes>"
      ]
     },
     "metadata": {
      "needs_background": "light"
     },
     "output_type": "display_data"
    }
   ],
   "source": [
    "%matplotlib inline\n",
    "from hw5_library.metrics import roc_auc_plot\n",
    "roc_auc_plot.roc_auc_plot(X_train, y_train)"
   ]
  },
  {
   "cell_type": "code",
   "execution_count": 13,
   "id": "bd331b9f",
   "metadata": {},
   "outputs": [
    {
     "data": {
      "image/png": "[encoded data removed]",
      "text/plain": [
       "<Figure size 720x432 with 1 Axes>"
      ]
     },
     "metadata": {
      "needs_background": "light"
     },
     "output_type": "display_data"
    }
   ],
   "source": [
    "roc_auc_plot.roc_auc_plot(X_test, y_test)"
   ]
  }
 ],
 "metadata": {
  "kernelspec": {
   "display_name": "Python 3 (ipykernel)",
   "language": "python",
   "name": "python3"
  },
  "language_info": {
   "codemirror_mode": {
    "name": "ipython",
    "version": 3
   },
   "file_extension": ".py",
   "mimetype": "text/x-python",
   "name": "python",
   "nbconvert_exporter": "python",
   "pygments_lexer": "ipython3",
   "version": "3.8.11"
  }
 },
 "nbformat": 4,
 "nbformat_minor": 5
}
